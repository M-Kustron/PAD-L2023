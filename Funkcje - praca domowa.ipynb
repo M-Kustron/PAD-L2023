{
 "cells": [
  {
   "cell_type": "code",
   "execution_count": 38,
   "id": "d8ce1cb9",
   "metadata": {},
   "outputs": [],
   "source": [
    "#Ćwiczenie 1\n",
    "def check_range(number, lower_limit, upper_limit):\n",
    "    if number > lower_limit and number < upper_limit:\n",
    "        print(\"{} jest między {} i {}\".format(number, lower_limit, upper_limit))\n",
    "    else: print(\"{} NIE jest między {} i {}\".format(number, lower_limit, upper_limit))"
   ]
  },
  {
   "cell_type": "code",
   "execution_count": 39,
   "id": "18bee60b",
   "metadata": {},
   "outputs": [
    {
     "name": "stdout",
     "output_type": "stream",
     "text": [
      "34 jest między 9 i 228\n"
     ]
    }
   ],
   "source": [
    "check_range(34, 9, 228)"
   ]
  },
  {
   "cell_type": "code",
   "execution_count": 40,
   "id": "947a088a",
   "metadata": {},
   "outputs": [
    {
     "name": "stdout",
     "output_type": "stream",
     "text": [
      "7 NIE jest między 2 i 5\n"
     ]
    }
   ],
   "source": [
    "check_range(7, 2, 5)"
   ]
  },
  {
   "cell_type": "code",
   "execution_count": 41,
   "id": "03e2f3cb",
   "metadata": {},
   "outputs": [],
   "source": [
    "def bool_range(number, lower_limit, upper_limit):\n",
    "    print(number > lower_limit and number < upper_limit)"
   ]
  },
  {
   "cell_type": "code",
   "execution_count": 42,
   "id": "beec1dc0",
   "metadata": {},
   "outputs": [
    {
     "name": "stdout",
     "output_type": "stream",
     "text": [
      "True\n"
     ]
    }
   ],
   "source": [
    "bool_range(7, 5, 20)"
   ]
  },
  {
   "cell_type": "code",
   "execution_count": 43,
   "id": "fbb6152b",
   "metadata": {},
   "outputs": [
    {
     "name": "stdout",
     "output_type": "stream",
     "text": [
      "False\n"
     ]
    }
   ],
   "source": [
    "bool_range(67, 22, 25)"
   ]
  },
  {
   "cell_type": "code",
   "execution_count": 44,
   "id": "e0d9900a",
   "metadata": {},
   "outputs": [],
   "source": [
    "#Ćwiczenie 2\n",
    "def unique_list(my_list):\n",
    "    set_my_list = set(my_list)\n",
    "    print(set_my_list)"
   ]
  },
  {
   "cell_type": "code",
   "execution_count": 45,
   "id": "88bfd7d8",
   "metadata": {},
   "outputs": [
    {
     "name": "stdout",
     "output_type": "stream",
     "text": [
      "{1, 2, 3, 4, 5, 6, 12, 63}\n"
     ]
    }
   ],
   "source": [
    "my_list = [1,3,5,6,4,3,2,3,3,4,3,4,5,6,6,4,3,2,12,3,5,63,4,5,3,3,2]\n",
    "\n",
    "unique_list(my_list)"
   ]
  },
  {
   "cell_type": "code",
   "execution_count": 48,
   "id": "6a8baa2c",
   "metadata": {},
   "outputs": [],
   "source": [
    "#Ćwiczenie 3\n",
    "def volume_of_sphere(radius):\n",
    "    volume = (4/3) * 3.14 * radius**3\n",
    "    print(volume)"
   ]
  },
  {
   "cell_type": "code",
   "execution_count": 49,
   "id": "83247768",
   "metadata": {},
   "outputs": [
    {
     "name": "stdout",
     "output_type": "stream",
     "text": [
      "33.49333333333333\n"
     ]
    }
   ],
   "source": [
    "volume_of_sphere(2)"
   ]
  },
  {
   "cell_type": "code",
   "execution_count": 72,
   "id": "11e7c50b",
   "metadata": {},
   "outputs": [],
   "source": [
    "#Ćwiczenie 4\n",
    "def num_fact(number):\n",
    "    if number == 1 or number == 0:\n",
    "        return 1\n",
    "    else:\n",
    "        result = number * num_fact(number - 1)\n",
    "        return result\n"
   ]
  },
  {
   "cell_type": "code",
   "execution_count": 73,
   "id": "8ac94a35",
   "metadata": {},
   "outputs": [
    {
     "data": {
      "text/plain": [
       "3628800"
      ]
     },
     "execution_count": 73,
     "metadata": {},
     "output_type": "execute_result"
    }
   ],
   "source": [
    "num_fact(10)"
   ]
  },
  {
   "cell_type": "code",
   "execution_count": null,
   "id": "64548a99",
   "metadata": {},
   "outputs": [],
   "source": []
  }
 ],
 "metadata": {
  "kernelspec": {
   "display_name": "Python 3 (ipykernel)",
   "language": "python",
   "name": "python3"
  },
  "language_info": {
   "codemirror_mode": {
    "name": "ipython",
    "version": 3
   },
   "file_extension": ".py",
   "mimetype": "text/x-python",
   "name": "python",
   "nbconvert_exporter": "python",
   "pygments_lexer": "ipython3",
   "version": "3.11.5"
  }
 },
 "nbformat": 4,
 "nbformat_minor": 5
}
